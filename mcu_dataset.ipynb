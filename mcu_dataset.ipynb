{
 "cells": [
  {
   "cell_type": "code",
   "execution_count": 1,
   "metadata": {},
   "outputs": [
    {
     "data": {
      "text/html": [
       "<div>\n",
       "<style scoped>\n",
       "    .dataframe tbody tr th:only-of-type {\n",
       "        vertical-align: middle;\n",
       "    }\n",
       "\n",
       "    .dataframe tbody tr th {\n",
       "        vertical-align: top;\n",
       "    }\n",
       "\n",
       "    .dataframe thead th {\n",
       "        text-align: right;\n",
       "    }\n",
       "</style>\n",
       "<table border=\"1\" class=\"dataframe\">\n",
       "  <thead>\n",
       "    <tr style=\"text-align: right;\">\n",
       "      <th></th>\n",
       "      <th>Name</th>\n",
       "      <th>US release Date</th>\n",
       "      <th>Director</th>\n",
       "      <th>Producer</th>\n",
       "      <th>Duration</th>\n",
       "      <th>Genre</th>\n",
       "      <th>IMDB rating</th>\n",
       "      <th>metascore</th>\n",
       "      <th>Cast</th>\n",
       "      <th>Budget</th>\n",
       "      <th>Domestic Gross</th>\n",
       "      <th>Total Gross</th>\n",
       "      <th>Opening Gross</th>\n",
       "      <th>Oscar Nomination</th>\n",
       "      <th>Oscar won</th>\n",
       "      <th>Phase</th>\n",
       "    </tr>\n",
       "  </thead>\n",
       "  <tbody>\n",
       "    <tr>\n",
       "      <th>0</th>\n",
       "      <td>Iron Man</td>\n",
       "      <td>2008-05-02</td>\n",
       "      <td>Jon Favreau</td>\n",
       "      <td>Avi Arad and Kevin Feige</td>\n",
       "      <td>2h 6min</td>\n",
       "      <td>Action , Adventure, Sci-Fi</td>\n",
       "      <td>7.9</td>\n",
       "      <td>79</td>\n",
       "      <td>Robert Downey Jr. , Gweneth Paltrow , Terrence...</td>\n",
       "      <td>$140,000,000</td>\n",
       "      <td>$318,604,126</td>\n",
       "      <td>$585,366,247</td>\n",
       "      <td>$98,618,668</td>\n",
       "      <td>2</td>\n",
       "      <td>0</td>\n",
       "      <td>1</td>\n",
       "    </tr>\n",
       "    <tr>\n",
       "      <th>1</th>\n",
       "      <td>The incredible Hulk</td>\n",
       "      <td>2008-06-13</td>\n",
       "      <td>Louis Leterrier</td>\n",
       "      <td>Avi Arad ,Gale Ann Hurd and Kevin Feige</td>\n",
       "      <td>1h 52min</td>\n",
       "      <td>Action , Adventure, Sci-Fi</td>\n",
       "      <td>6.6</td>\n",
       "      <td>61</td>\n",
       "      <td>Edward Norton , Liv Tyler , Tim Roth</td>\n",
       "      <td>$150,000,000</td>\n",
       "      <td>$134,806,913</td>\n",
       "      <td>$264,770,996</td>\n",
       "      <td>$55,414,050</td>\n",
       "      <td>0</td>\n",
       "      <td>0</td>\n",
       "      <td>1</td>\n",
       "    </tr>\n",
       "    <tr>\n",
       "      <th>2</th>\n",
       "      <td>Iron Man 2</td>\n",
       "      <td>2010-05-07</td>\n",
       "      <td>Jon Favreau</td>\n",
       "      <td>Kevin Feige</td>\n",
       "      <td>2h 4min</td>\n",
       "      <td>Action , Adventure, Sci-Fi</td>\n",
       "      <td>7.0</td>\n",
       "      <td>57</td>\n",
       "      <td>Robert Downey Jr. , Gweneth Paltrow , Mickey R...</td>\n",
       "      <td>$200,000,000</td>\n",
       "      <td>$312,433,331</td>\n",
       "      <td>$623,933,331</td>\n",
       "      <td>$128,122,480</td>\n",
       "      <td>1</td>\n",
       "      <td>0</td>\n",
       "      <td>1</td>\n",
       "    </tr>\n",
       "    <tr>\n",
       "      <th>3</th>\n",
       "      <td>Thor</td>\n",
       "      <td>2011-05-06</td>\n",
       "      <td>Kenneth Branagh</td>\n",
       "      <td>Kevin Feige</td>\n",
       "      <td>1h 55min</td>\n",
       "      <td>Action , Adventure, Fantasy</td>\n",
       "      <td>7.0</td>\n",
       "      <td>57</td>\n",
       "      <td>Chris Hemsworth , Anthony Hopkins , Natalie Po...</td>\n",
       "      <td>$150,000,000</td>\n",
       "      <td>$181,030,624</td>\n",
       "      <td>$449,326,618</td>\n",
       "      <td>$65,723,338</td>\n",
       "      <td>0</td>\n",
       "      <td>0</td>\n",
       "      <td>1</td>\n",
       "    </tr>\n",
       "    <tr>\n",
       "      <th>4</th>\n",
       "      <td>Captain America: The first Avenger</td>\n",
       "      <td>2011-07-22</td>\n",
       "      <td>Joe Jhonston</td>\n",
       "      <td>Kevin Feige</td>\n",
       "      <td>2h 4min</td>\n",
       "      <td>Action , Adventure, Sci-Fi</td>\n",
       "      <td>6.9</td>\n",
       "      <td>66</td>\n",
       "      <td>Chris Evans ,  Hugo Weaving , Samuel L. Jackson</td>\n",
       "      <td>$140,000,000</td>\n",
       "      <td>$176,654,505</td>\n",
       "      <td>$370,569,774</td>\n",
       "      <td>$65,058,524</td>\n",
       "      <td>0</td>\n",
       "      <td>0</td>\n",
       "      <td>1</td>\n",
       "    </tr>\n",
       "  </tbody>\n",
       "</table>\n",
       "</div>"
      ],
      "text/plain": [
       "                                 Name US release Date         Director  \\\n",
       "0                            Iron Man      2008-05-02      Jon Favreau   \n",
       "1                 The incredible Hulk      2008-06-13  Louis Leterrier   \n",
       "2                          Iron Man 2      2010-05-07      Jon Favreau   \n",
       "3                                Thor      2011-05-06  Kenneth Branagh   \n",
       "4  Captain America: The first Avenger      2011-07-22     Joe Jhonston   \n",
       "\n",
       "                                  Producer  Duration  \\\n",
       "0                 Avi Arad and Kevin Feige   2h 6min   \n",
       "1  Avi Arad ,Gale Ann Hurd and Kevin Feige  1h 52min   \n",
       "2                              Kevin Feige   2h 4min   \n",
       "3                              Kevin Feige  1h 55min   \n",
       "4                              Kevin Feige   2h 4min   \n",
       "\n",
       "                         Genre  IMDB rating  metascore  \\\n",
       "0   Action , Adventure, Sci-Fi          7.9         79   \n",
       "1   Action , Adventure, Sci-Fi          6.6         61   \n",
       "2   Action , Adventure, Sci-Fi          7.0         57   \n",
       "3  Action , Adventure, Fantasy          7.0         57   \n",
       "4   Action , Adventure, Sci-Fi          6.9         66   \n",
       "\n",
       "                                                Cast        Budget  \\\n",
       "0  Robert Downey Jr. , Gweneth Paltrow , Terrence...  $140,000,000   \n",
       "1               Edward Norton , Liv Tyler , Tim Roth  $150,000,000   \n",
       "2  Robert Downey Jr. , Gweneth Paltrow , Mickey R...  $200,000,000   \n",
       "3  Chris Hemsworth , Anthony Hopkins , Natalie Po...  $150,000,000   \n",
       "4    Chris Evans ,  Hugo Weaving , Samuel L. Jackson  $140,000,000   \n",
       "\n",
       "  Domestic Gross   Total Gross Opening Gross  Oscar Nomination  Oscar won  \\\n",
       "0   $318,604,126  $585,366,247   $98,618,668                 2          0   \n",
       "1   $134,806,913  $264,770,996   $55,414,050                 0          0   \n",
       "2   $312,433,331  $623,933,331  $128,122,480                 1          0   \n",
       "3   $181,030,624  $449,326,618   $65,723,338                 0          0   \n",
       "4   $176,654,505  $370,569,774   $65,058,524                 0          0   \n",
       "\n",
       "   Phase  \n",
       "0      1  \n",
       "1      1  \n",
       "2      1  \n",
       "3      1  \n",
       "4      1  "
      ]
     },
     "execution_count": 1,
     "metadata": {},
     "output_type": "execute_result"
    }
   ],
   "source": [
    "# Import packages\n",
    "import pandas as pd\n",
    "import seaborn as sns\n",
    "import matplotlib.pyplot as plt\n",
    "import numpy as np\n",
    "\n",
    "# Import data\n",
    "mcu_dataset=pd.read_csv(\"mcu dataset.csv\", \n",
    "                        parse_dates = [\"US release Date\"])\n",
    "mcu_dataset.head()"
   ]
  },
  {
   "attachments": {},
   "cell_type": "markdown",
   "metadata": {},
   "source": [
    "## Preparing the data\n",
    "In this section, the presence of missing values and duplicate lines will be checked.\n",
    "Then, we will convert columns into different data types.\n",
    "\n",
    "*Note: this section presents data transformations and python code used to process the data. Readers not interested in these technical details can jump ahead to the next section of this report, titled Link between Budget and IMBD rating (and metascore)*"
   ]
  },
  {
   "cell_type": "code",
   "execution_count": 2,
   "metadata": {},
   "outputs": [
    {
     "name": "stdout",
     "output_type": "stream",
     "text": [
      "<class 'pandas.core.frame.DataFrame'>\n",
      "RangeIndex: 23 entries, 0 to 22\n",
      "Data columns (total 16 columns):\n",
      " #   Column            Non-Null Count  Dtype         \n",
      "---  ------            --------------  -----         \n",
      " 0   Name              23 non-null     object        \n",
      " 1   US release Date   23 non-null     datetime64[ns]\n",
      " 2   Director          23 non-null     object        \n",
      " 3   Producer          23 non-null     object        \n",
      " 4   Duration          23 non-null     object        \n",
      " 5   Genre             23 non-null     object        \n",
      " 6   IMDB rating       23 non-null     float64       \n",
      " 7   metascore         23 non-null     int64         \n",
      " 8   Cast              23 non-null     object        \n",
      " 9   Budget            23 non-null     object        \n",
      " 10  Domestic Gross    23 non-null     object        \n",
      " 11  Total Gross       23 non-null     object        \n",
      " 12  Opening Gross     23 non-null     object        \n",
      " 13  Oscar Nomination  23 non-null     int64         \n",
      " 14  Oscar won         23 non-null     int64         \n",
      " 15  Phase             23 non-null     int64         \n",
      "dtypes: datetime64[ns](1), float64(1), int64(4), object(10)\n",
      "memory usage: 3.0+ KB\n"
     ]
    }
   ],
   "source": [
    "# Check for missing values and data types\n",
    "mcu_dataset.info()"
   ]
  },
  {
   "cell_type": "code",
   "execution_count": 3,
   "metadata": {},
   "outputs": [
    {
     "data": {
      "text/plain": [
       "False"
      ]
     },
     "execution_count": 3,
     "metadata": {},
     "output_type": "execute_result"
    }
   ],
   "source": [
    "# Check for duplicates\n",
    "mcu_dataset.duplicated().any()"
   ]
  },
  {
   "cell_type": "code",
   "execution_count": 4,
   "metadata": {},
   "outputs": [
    {
     "name": "stderr",
     "output_type": "stream",
     "text": [
      "C:\\Users\\EXO629\\AppData\\Local\\Temp\\ipykernel_18688\\2057271708.py:19: FutureWarning: The default value of regex will change from True to False in a future version. In addition, single character regular expressions will *not* be treated as literal strings when regex=True.\n",
      "  dollar_col=dollar_col.str.replace(\"$\", \"\")\n"
     ]
    }
   ],
   "source": [
    "# Change the dollar columns to integer#\n",
    "def convert_to_num(dollar_col):\n",
    "    \"\"\"\n",
    "    Convert a dollar column from mcu_dataset to float by removing \"$\", \",\" and\n",
    "    changing the type to float.\n",
    "\n",
    "    Parameters\n",
    "    ----------\n",
    "    series : pandas.core.series.Series\n",
    "        The Series object to be converted\n",
    "\n",
    "    Returns\n",
    "    -------\n",
    "    \n",
    "    pandas.core.series.Series\n",
    "    The converted Series object\n",
    "\n",
    "    \"\"\"\n",
    "    dollar_col=dollar_col.str.replace(\"$\", \"\")\n",
    "    dollar_col=dollar_col.str.replace(\",\", \"\")\n",
    "    dollar_col=dollar_col.astype(\"float\")\n",
    "    return dollar_col\n",
    "\n",
    "    \n",
    "dollar_columns = ['Budget', 'Domestic Gross', 'Total Gross', 'Opening Gross']\n",
    "\n",
    "mcu_dataset.loc[:, dollar_columns] = mcu_dataset.loc[:, dollar_columns].apply(convert_to_num)\n",
    "    \n",
    "# Rename the dollar columns\n",
    "mcu_dataset.columns= ['Name', 'US release Date', 'Director', 'Producer', 'Duration', 'Genre',\n",
    "       'IMDB rating', 'metascore', 'Cast', 'Budget($)', 'Domestic Gross($)',\n",
    "       'Total Gross($)', 'Opening Gross($)', 'Oscar Nomination', 'Oscar won',\n",
    "       'Phase']"
   ]
  },
  {
   "cell_type": "code",
   "execution_count": 5,
   "metadata": {},
   "outputs": [],
   "source": [
    "# Convert the \"Phase\" column to category\n",
    "mcu_dataset[\"Phase\"]=mcu_dataset.Phase.astype(\"category\")\n",
    "\n",
    "assert mcu_dataset[\"Phase\"].dtype==\"category\"                           #if not True, it will raise an AssertionError"
   ]
  },
  {
   "cell_type": "code",
   "execution_count": 6,
   "metadata": {},
   "outputs": [],
   "source": [
    "# Convert the \"Duration\" colum to timedelta\n",
    "mcu_dataset[\"Duration\"]=pd.to_timedelta(mcu_dataset.Duration)"
   ]
  },
  {
   "cell_type": "code",
   "execution_count": 7,
   "metadata": {},
   "outputs": [
    {
     "name": "stdout",
     "output_type": "stream",
     "text": [
      "<class 'pandas.core.frame.DataFrame'>\n",
      "RangeIndex: 23 entries, 0 to 22\n",
      "Data columns (total 16 columns):\n",
      " #   Column             Non-Null Count  Dtype          \n",
      "---  ------             --------------  -----          \n",
      " 0   Name               23 non-null     object         \n",
      " 1   US release Date    23 non-null     datetime64[ns] \n",
      " 2   Director           23 non-null     object         \n",
      " 3   Producer           23 non-null     object         \n",
      " 4   Duration           23 non-null     timedelta64[ns]\n",
      " 5   Genre              23 non-null     object         \n",
      " 6   IMDB rating        23 non-null     float64        \n",
      " 7   metascore          23 non-null     int64          \n",
      " 8   Cast               23 non-null     object         \n",
      " 9   Budget($)          23 non-null     float64        \n",
      " 10  Domestic Gross($)  23 non-null     float64        \n",
      " 11  Total Gross($)     23 non-null     float64        \n",
      " 12  Opening Gross($)   23 non-null     float64        \n",
      " 13  Oscar Nomination   23 non-null     int64          \n",
      " 14  Oscar won          23 non-null     int64          \n",
      " 15  Phase              23 non-null     category       \n",
      "dtypes: category(1), datetime64[ns](1), float64(5), int64(3), object(5), timedelta64[ns](1)\n",
      "memory usage: 3.0+ KB\n"
     ]
    }
   ],
   "source": [
    "mcu_dataset.info()"
   ]
  },
  {
   "attachments": {},
   "cell_type": "markdown",
   "metadata": {},
   "source": [
    "## Developing data visualization tools\n",
    "\n",
    "In this section, we will create different graphs to help us answer certain questions."
   ]
  },
  {
   "attachments": {},
   "cell_type": "markdown",
   "metadata": {},
   "source": [
    "### Link between Budget and IMBD rating\n",
    "First of all, we wanted to investigate a possible link between the budget invested in a film and its success with critics. Before doing so, we wanted to analyse the evolution of film expenditure over time in order to perhaps observe a trend."
   ]
  },
  {
   "cell_type": "code",
   "execution_count": 9,
   "metadata": {},
   "outputs": [
    {
     "name": "stderr",
     "output_type": "stream",
     "text": [
      "c:\\Users\\EXO629\\Anaconda3\\lib\\site-packages\\seaborn\\_decorators.py:36: FutureWarning: Pass the following variables as keyword args: x, y. From version 0.12, the only valid positional argument will be `data`, and passing other arguments without an explicit keyword will result in an error or misinterpretation.\n",
      "  warnings.warn(\n"
     ]
    },
    {
     "data": {
      "image/png": "[encoded data removed]",
      "text/plain": [
       "<Figure size 432x288 with 1 Axes>"
      ]
     },
     "metadata": {},
     "output_type": "display_data"
    }
   ],
   "source": [
    "sns.set_style(\"white\")\n",
    "f, axes= plt.subplots(1,1)\n",
    "\n",
    "# Evolution budget accross time\n",
    "g=sns.lineplot(\"US release Date\", \"Total Gross($)\", data=mcu_dataset)\n",
    "g.set_title(\"Budget evolution\")\n",
    "sns.despine()                           #remove borders\n",
    "plt.show()"
   ]
  }
 ],
 "metadata": {
  "kernelspec": {
   "display_name": "base",
   "language": "python",
   "name": "python3"
  },
  "language_info": {
   "codemirror_mode": {
    "name": "ipython",
    "version": 3
   },
   "file_extension": ".py",
   "mimetype": "text/x-python",
   "name": "python",
   "nbconvert_exporter": "python",
   "pygments_lexer": "ipython3",
   "version": "3.9.12"
  },
  "orig_nbformat": 4,
  "vscode": {
   "interpreter": {
    "hash": "4743e2ef60b6c4a421cbf452a7f3d7d5fa8b73962be90a6f4679dcf7640134c5"
   }
  }
 },
 "nbformat": 4,
 "nbformat_minor": 2
}
